{
  "nbformat": 4,
  "nbformat_minor": 0,
  "metadata": {
    "colab": {
      "provenance": [],
      "authorship_tag": "ABX9TyPOxK3f0XP3GQilUV30aNPe",
      "include_colab_link": true
    },
    "kernelspec": {
      "name": "python3",
      "display_name": "Python 3"
    },
    "language_info": {
      "name": "python"
    }
  },
  "cells": [
    {
      "cell_type": "markdown",
      "metadata": {
        "id": "view-in-github",
        "colab_type": "text"
      },
      "source": [
        "<a href=\"https://colab.research.google.com/github/Avit-hodibu/navie_bayes/blob/main/Naive_bayes.ipynb\" target=\"_parent\"><img src=\"https://colab.research.google.com/assets/colab-badge.svg\" alt=\"Open In Colab\"/></a>"
      ]
    },
    {
      "cell_type": "markdown",
      "source": [
        "#Conditional Probability\n",
        "\n",
        "P(A|B)= p(A n B)/ p(B)\n",
        "\n",
        "given, p(B) not equal 0.\n",
        "\n",
        "probability is likelyhood of something. chances\n",
        "\n",
        "Now, conditional probability is that one condition event is already happen now find the probality of happening this event.\n",
        "\n",
        "Example: question: tossing a fair coin three times\n",
        "S={HHH, HHT, HTH, HTT, THH, THT, TTH, TTT}\n",
        "\n",
        "find the prob at least two tails appear given that first coin shows head.\n",
        "\n",
        "TT = {HTT, THT, TTH, TTT}\n",
        "\n",
        "p(TT)= number of appear/ number of case=  4/8 = 1/2\n",
        "\n",
        "FH= {HHH, HHT, HTH, HTT}\n",
        "\n",
        "p(FH)= 4/8 =1/2\n",
        "\n",
        "TT n FH = {HTT}\n",
        "\n",
        "p(TT n FH )= 1/8\n",
        "\n",
        "now,\n",
        "\n",
        "conditional probability = p(TT|FH) = p(TT n FH)/ p(FH) = (1/8) / (1/2) = 1/4\n",
        "\n"
      ],
      "metadata": {
        "id": "UKRgALKto3mi"
      }
    },
    {
      "cell_type": "markdown",
      "source": [
        "# Independent Events\n",
        "\n",
        "the occurrence of one event doesnt affect the occurrence of annother event\n",
        "\n",
        "If P(A n B) = p(A) * P(B).\n",
        "\n",
        "in conditional probality the event is independent event then\n",
        "\n",
        "p(A|B) = p(AnB)/ p(B) = p(A)*p(B)/ p(B) = p(A)\n",
        "\n",
        "this means it doesnot matter event B occure it only matter A occure if the event is independent."
      ],
      "metadata": {
        "id": "mSqV2M12wn1D"
      }
    },
    {
      "cell_type": "markdown",
      "source": [
        "# Mutually Exclusive Events\n",
        "\n",
        "When two event canot occur at once.\n",
        "\n",
        "P(AnB)= 0\n",
        "\n",
        "if you toss the coin then it will either occur head or tail. It cannot occur both\n",
        "\n",
        "p(A|B)= p(AnB)/p(B) = 0\n"
      ],
      "metadata": {
        "id": "oDoqXl4JzV-B"
      }
    },
    {
      "cell_type": "markdown",
      "source": [
        "# Bayes Theorem\n",
        "\n",
        "P(A|B) = p(B|A) * p(A) / p(B) ,given p(B)=0\n",
        "\n",
        "conditiona prob= P(A|B)= p(A n B)/ p(B)\n",
        "\n",
        "A n B = B n A\n",
        "\n",
        "then, p(B|A) = p(AnB)/ p(A)\n",
        "\n",
        "this means = P(A|B)= p(B|A) * p(A) / p(B)\n",
        "= (p(AnB)/ p(A) ) *p(A) / p(B) = p(A n B)/ p(B)\n",
        "\n",
        "\n",
        "\n"
      ],
      "metadata": {
        "id": "5l1iiny70XYb"
      }
    },
    {
      "cell_type": "markdown",
      "source": [
        "question: A product is made in factory. It has 3 machine make 20% from M1, 30% from M2 and 50 % from M3. M1 has 5% defect, M2 has 3% defect and M3 has 1% defect.\n",
        "\n",
        "I pick one product and it turn to be defective. Find the proba of that product is from M3?\n",
        "\n",
        "\n",
        "p(M1)= 20/100= 1/5, p(M2) = 3/10, p(M3) = 1/2\n",
        "\n",
        "p(D|M1)= 5/100 = 1/20, p(D|M2)=3/100, p(D|M3)=1/100\n",
        "\n",
        "we need to find, proba of product from M3 and it is defected = p(M3|D)=(p(D|M3) * p(M3)) / p(D)\n",
        "\n",
        "\n",
        "p(D)= p(DnM1) + p(DnM2) + p(DnM3)\n",
        "\n",
        "since p(A|B) = p(AnB)/ p(B) then p(A|B)*p(B)=p(AnB)\n",
        "\n",
        "then\n",
        "\n",
        " p(D|M1) * P(M1) + P(D|M2) * p(M2) + p(DnM3) * p(M3)\n",
        "\n",
        "p(D) = 1/20 * 1/5 + 3/100 * 3/10 + 1/100 * 1/2\n",
        "\n",
        "=3/125\n",
        "\n",
        "\n",
        "p(M3|D)=(p(D|M3) * p(M3)) / p(D)\n",
        "\n",
        "= (1/100 * 1/2) / 3/125\n",
        "\n",
        "= 5/24\n"
      ],
      "metadata": {
        "id": "mpYAxE4m1_Yy"
      }
    },
    {
      "cell_type": "markdown",
      "source": [
        "# Naive Bayes\n",
        "\n",
        "what is the proba of A, if B, C and D happen?\n",
        "\n",
        "P(A|BnCnD) = p(BnCnD|A) * p(A) / p(BnCnD)\n",
        "\n",
        "\n",
        "for A has two value yes or no?\n",
        "\n",
        "\n",
        "P(Ayes|BnCnD) = p(BnCnD|Ayes) * p(Ayes) / p(BnCnD)\n",
        "\n",
        "P(Ano|BnCnD) = p(BnCnD|no) * p(Ano) / p(BnCnD)\n",
        "\n",
        "since both has 1/ p(BnCnD) we can ignore. then\n",
        "\n",
        "P(Ayes|BnCnD) = p(BnCnD|Ayes) * p(Ayes)\n",
        "\n",
        "P(Ano|BnCnD) = p(BnCnD|Ano) * p(Ano)"
      ],
      "metadata": {
        "id": "1C2NpBArASfZ"
      }
    }
  ]
}